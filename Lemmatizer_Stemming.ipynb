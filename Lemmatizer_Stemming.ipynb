{
  "nbformat": 4,
  "nbformat_minor": 0,
  "metadata": {
    "colab": {
      "name": "Lemmatizer/Stemming.ipynb",
      "provenance": [],
      "authorship_tag": "ABX9TyPFcj6wQtfE4GSnPaE0R+db",
      "include_colab_link": true
    },
    "kernelspec": {
      "name": "python3",
      "display_name": "Python 3"
    }
  },
  "cells": [
    {
      "cell_type": "markdown",
      "metadata": {
        "id": "view-in-github",
        "colab_type": "text"
      },
      "source": [
        "<a href=\"https://colab.research.google.com/github/bbodhak/Artificial-Intelligence/blob/master/Lemmatizer_Stemming.ipynb\" target=\"_parent\"><img src=\"https://colab.research.google.com/assets/colab-badge.svg\" alt=\"Open In Colab\"/></a>"
      ]
    },
    {
      "cell_type": "code",
      "metadata": {
        "id": "OYgT_jkuT7Gg",
        "colab_type": "code",
        "colab": {
          "base_uri": "https://localhost:8080/",
          "height": 119
        },
        "outputId": "d7403162-e9a3-443d-e009-5f35b243e784"
      },
      "source": [
        "import nltk\n",
        "from nltk.corpus import wordnet as wn\n",
        "from nltk.stem.wordnet import WordNetLemmatizer\n",
        "nltk.download('wordnet')\n",
        "lemmatizer = WordNetLemmatizer()\n",
        "\n",
        "print(lemmatizer.lemmatize(\"tasty\"))\n",
        "print(lemmatizer.lemmatize(\"tasteless\"))\n",
        "print(lemmatizer.lemmatize(\"studies\"))\n",
        "print(lemmatizer.lemmatize(\"studying\"))"
      ],
      "execution_count": 3,
      "outputs": [
        {
          "output_type": "stream",
          "text": [
            "[nltk_data] Downloading package wordnet to /root/nltk_data...\n",
            "[nltk_data]   Package wordnet is already up-to-date!\n",
            "tasty\n",
            "tasteless\n",
            "study\n",
            "studying\n"
          ],
          "name": "stdout"
        }
      ]
    },
    {
      "cell_type": "code",
      "metadata": {
        "id": "U9ahBwT_UPke",
        "colab_type": "code",
        "colab": {
          "base_uri": "https://localhost:8080/",
          "height": 68
        },
        "outputId": "c23b6678-a360-4646-9200-6b9517adceae"
      },
      "source": [
        "from nltk.stem import PorterStemmer\n",
        "from nltk.tokenize import sent_tokenize, word_tokenize\n",
        "ps = PorterStemmer()\n",
        "\n",
        "example_words = [\"tasty\",\"tasteless\",\"delicious\"]\n",
        "for w in example_words:\n",
        "  print(ps.stem(w))"
      ],
      "execution_count": 5,
      "outputs": [
        {
          "output_type": "stream",
          "text": [
            "tasti\n",
            "tasteless\n",
            "delici\n"
          ],
          "name": "stdout"
        }
      ]
    },
    {
      "cell_type": "code",
      "metadata": {
        "id": "Xewq7TucVEMa",
        "colab_type": "code",
        "colab": {
          "base_uri": "https://localhost:8080/",
          "height": 68
        },
        "outputId": "e9c448da-3cf2-446e-bc61-072541a44a6b"
      },
      "source": [
        "nltk.download('wordnet')\n",
        "lmtzr = WordNetLemmatizer()\n",
        "lmtzr.lemmatize('tasteless')\n",
        "lmtzr.lemmatize('delicious')\n",
        "lmtzr.lemmatize('tasty')"
      ],
      "execution_count": 6,
      "outputs": [
        {
          "output_type": "stream",
          "text": [
            "[nltk_data] Downloading package wordnet to /root/nltk_data...\n",
            "[nltk_data]   Package wordnet is already up-to-date!\n"
          ],
          "name": "stdout"
        },
        {
          "output_type": "execute_result",
          "data": {
            "text/plain": [
              "'tasty'"
            ]
          },
          "metadata": {
            "tags": []
          },
          "execution_count": 6
        }
      ]
    },
    {
      "cell_type": "code",
      "metadata": {
        "id": "wL-cUDmjVTe8",
        "colab_type": "code",
        "colab": {
          "base_uri": "https://localhost:8080/",
          "height": 68
        },
        "outputId": "01139d11-5125-4304-b795-d72b414e8036"
      },
      "source": [
        "ps = PorterStemmer()\n",
        "example_words = [\"New York\",\"Mexico City\",\"Las Vegas\"]\n",
        "for w in example_words:\n",
        "  print(ps.stem(w))\n"
      ],
      "execution_count": 8,
      "outputs": [
        {
          "output_type": "stream",
          "text": [
            "new york\n",
            "mexico c\n",
            "las vega\n"
          ],
          "name": "stdout"
        }
      ]
    },
    {
      "cell_type": "code",
      "metadata": {
        "id": "A3EgJFOvV7Rp",
        "colab_type": "code",
        "colab": {
          "base_uri": "https://localhost:8080/",
          "height": 68
        },
        "outputId": "bc67d4e9-42a3-432c-feb2-acd618ceffed"
      },
      "source": [
        "print(lmtzr.lemmatize('New York'))\n",
        "#print(lemmatizer.lemmatize(\"tasty\"))\n",
        "print(lmtzr.lemmatize('Mexico City'))\n",
        "print(lmtzr.lemmatize('Las Vegas'))"
      ],
      "execution_count": 10,
      "outputs": [
        {
          "output_type": "stream",
          "text": [
            "New York\n",
            "Mexico City\n",
            "Las Vegas\n"
          ],
          "name": "stdout"
        }
      ]
    },
    {
      "cell_type": "code",
      "metadata": {
        "id": "9ZDK8hykWAYu",
        "colab_type": "code",
        "colab": {}
      },
      "source": [
        ""
      ],
      "execution_count": 0,
      "outputs": []
    }
  ]
}